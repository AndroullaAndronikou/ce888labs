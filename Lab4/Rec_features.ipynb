{
 "cells": [
  {
   "cell_type": "markdown",
   "metadata": {
    "slideshow": {
     "slide_type": "slide"
    }
   },
   "source": [
    "# Hybrid Models for Recommendation Systems"
   ]
  },
  {
   "cell_type": "markdown",
   "metadata": {
    "slideshow": {
     "slide_type": "slide"
    }
   },
   "source": [
    "Load Pandas, we are going to need it for manipulating data"
   ]
  },
  {
   "cell_type": "code",
   "execution_count": 5,
   "metadata": {
    "slideshow": {
     "slide_type": "fragment"
    }
   },
   "outputs": [],
   "source": [
    "import pandas as pd\n",
    "import numpy as np\n",
    "from IPython.display import Image\n",
    "np.set_printoptions(precision = 3)"
   ]
  },
  {
   "cell_type": "markdown",
   "metadata": {
    "slideshow": {
     "slide_type": "slide"
    }
   },
   "source": [
    "Now load the data"
   ]
  },
  {
   "cell_type": "code",
   "execution_count": 9,
   "metadata": {
    "slideshow": {
     "slide_type": "fragment"
    }
   },
   "outputs": [],
   "source": [
    "user_ratings_df = pd.read_csv(\"user_ratings.csv\")\n",
    "user_features_df = pd.read_csv(\"user_features.csv\")\n",
    "item_features_df = pd.read_csv(\"item_features.csv\")\n"
   ]
  },
  {
   "cell_type": "code",
   "execution_count": 13,
   "metadata": {},
   "outputs": [
    {
     "name": "stdout",
     "output_type": "stream",
     "text": [
      "The First data set is the following:\n",
      "    The Call of Cthulhu   Frankenstein   Dracula   Neuromancer   Space Odyssey\n",
      "0                  8.0            2.0       NaN           5.0             4.0\n",
      "1                  3.0            2.0       NaN           7.0             7.0\n",
      "2                  9.0            NaN       7.0           8.0             5.0\n",
      "3                  NaN            NaN       7.0           8.0             9.0\n",
      "4                  NaN            1.0       8.0           3.0             7.0\n",
      "5                  2.0            3.0       5.0           NaN             NaN\n",
      "6                  4.0            2.0       NaN           2.0             7.0\n",
      "7                  7.0            1.0       2.0           7.0             9.0\n",
      "8                  3.0            3.0       NaN           7.0             3.0\n",
      "9                  4.0            NaN       5.0           3.0             3.0\n"
     ]
    }
   ],
   "source": [
    "#Printing the first data set\n",
    "print(\"The First data set is the following:\\n\",user_ratings_df)"
   ]
  },
  {
   "cell_type": "code",
   "execution_count": 14,
   "metadata": {},
   "outputs": [
    {
     "name": "stdout",
     "output_type": "stream",
     "text": [
      "The Second data set is the following:\n",
      "    Sex   Over60\n",
      "0  1.0      0.0\n",
      "1  0.0      1.0\n",
      "2  0.0      0.0\n",
      "3  1.0      0.0\n",
      "4  0.0      1.0\n",
      "5  0.0      0.0\n",
      "6  0.0      0.0\n",
      "7  1.0      0.0\n",
      "8  0.0      1.0\n",
      "9  1.0      0.0\n"
     ]
    }
   ],
   "source": [
    "#Printing the second data set\n",
    "print(\"The Second data set is the following:\\n\",user_features_df)"
   ]
  },
  {
   "cell_type": "code",
   "execution_count": 15,
   "metadata": {},
   "outputs": [
    {
     "name": "stdout",
     "output_type": "stream",
     "text": [
      "The Third data set is the following:\n",
      "    Critic0   Critic1\n",
      "0      0.3       0.9\n",
      "1      0.9       0.3\n",
      "2      0.6       0.4\n",
      "3      0.2       0.1\n",
      "4      0.7       0.8\n"
     ]
    }
   ],
   "source": [
    "#Printing the third data set\n",
    "print(\"The Third data set is the following:\\n\",item_features_df)"
   ]
  },
  {
   "cell_type": "code",
   "execution_count": 25,
   "metadata": {},
   "outputs": [
    {
     "name": "stdout",
     "output_type": "stream",
     "text": [
      "   Sex   Over60  key  user_id  Critic0   Critic1  item_id  \\\n",
      "0  1.0      0.0    0        0      0.3       0.9        0   \n",
      "1  1.0      0.0    0        0      0.9       0.3        1   \n",
      "2  1.0      0.0    0        0      0.6       0.4        2   \n",
      "3  1.0      0.0    0        0      0.2       0.1        3   \n",
      "4  1.0      0.0    0        0      0.7       0.8        4   \n",
      "0  0.0      1.0    0        1      0.3       0.9        0   \n",
      "1  0.0      1.0    0        1      0.9       0.3        1   \n",
      "2  0.0      1.0    0        1      0.6       0.4        2   \n",
      "3  0.0      1.0    0        1      0.2       0.1        3   \n",
      "4  0.0      1.0    0        1      0.7       0.8        4   \n",
      "0  0.0      0.0    0        2      0.3       0.9        0   \n",
      "1  0.0      0.0    0        2      0.9       0.3        1   \n",
      "2  0.0      0.0    0        2      0.6       0.4        2   \n",
      "3  0.0      0.0    0        2      0.2       0.1        3   \n",
      "4  0.0      0.0    0        2      0.7       0.8        4   \n",
      "0  1.0      0.0    0        3      0.3       0.9        0   \n",
      "1  1.0      0.0    0        3      0.9       0.3        1   \n",
      "2  1.0      0.0    0        3      0.6       0.4        2   \n",
      "3  1.0      0.0    0        3      0.2       0.1        3   \n",
      "4  1.0      0.0    0        3      0.7       0.8        4   \n",
      "0  0.0      1.0    0        4      0.3       0.9        0   \n",
      "1  0.0      1.0    0        4      0.9       0.3        1   \n",
      "2  0.0      1.0    0        4      0.6       0.4        2   \n",
      "3  0.0      1.0    0        4      0.2       0.1        3   \n",
      "4  0.0      1.0    0        4      0.7       0.8        4   \n",
      "0  0.0      0.0    0        5      0.3       0.9        0   \n",
      "1  0.0      0.0    0        5      0.9       0.3        1   \n",
      "2  0.0      0.0    0        5      0.6       0.4        2   \n",
      "3  0.0      0.0    0        5      0.2       0.1        3   \n",
      "4  0.0      0.0    0        5      0.7       0.8        4   \n",
      "0  0.0      0.0    0        6      0.3       0.9        0   \n",
      "1  0.0      0.0    0        6      0.9       0.3        1   \n",
      "2  0.0      0.0    0        6      0.6       0.4        2   \n",
      "3  0.0      0.0    0        6      0.2       0.1        3   \n",
      "4  0.0      0.0    0        6      0.7       0.8        4   \n",
      "0  1.0      0.0    0        7      0.3       0.9        0   \n",
      "1  1.0      0.0    0        7      0.9       0.3        1   \n",
      "2  1.0      0.0    0        7      0.6       0.4        2   \n",
      "3  1.0      0.0    0        7      0.2       0.1        3   \n",
      "4  1.0      0.0    0        7      0.7       0.8        4   \n",
      "0  0.0      1.0    0        8      0.3       0.9        0   \n",
      "1  0.0      1.0    0        8      0.9       0.3        1   \n",
      "2  0.0      1.0    0        8      0.6       0.4        2   \n",
      "3  0.0      1.0    0        8      0.2       0.1        3   \n",
      "4  0.0      1.0    0        8      0.7       0.8        4   \n",
      "0  1.0      0.0    0        9      0.3       0.9        0   \n",
      "1  1.0      0.0    0        9      0.9       0.3        1   \n",
      "2  1.0      0.0    0        9      0.6       0.4        2   \n",
      "3  1.0      0.0    0        9      0.2       0.1        3   \n",
      "4  1.0      0.0    0        9      0.7       0.8        4   \n",
      "\n",
      "                               rating  \n",
      "0  <map object at 0x0000023F79F587B8>  \n",
      "1  <map object at 0x0000023F79F587B8>  \n",
      "2  <map object at 0x0000023F79F587B8>  \n",
      "3  <map object at 0x0000023F79F587B8>  \n",
      "4  <map object at 0x0000023F79F587B8>  \n",
      "0  <map object at 0x0000023F79F587B8>  \n",
      "1  <map object at 0x0000023F79F587B8>  \n",
      "2  <map object at 0x0000023F79F587B8>  \n",
      "3  <map object at 0x0000023F79F587B8>  \n",
      "4  <map object at 0x0000023F79F587B8>  \n",
      "0  <map object at 0x0000023F79F587B8>  \n",
      "1  <map object at 0x0000023F79F587B8>  \n",
      "2  <map object at 0x0000023F79F587B8>  \n",
      "3  <map object at 0x0000023F79F587B8>  \n",
      "4  <map object at 0x0000023F79F587B8>  \n",
      "0  <map object at 0x0000023F79F587B8>  \n",
      "1  <map object at 0x0000023F79F587B8>  \n",
      "2  <map object at 0x0000023F79F587B8>  \n",
      "3  <map object at 0x0000023F79F587B8>  \n",
      "4  <map object at 0x0000023F79F587B8>  \n",
      "0  <map object at 0x0000023F79F587B8>  \n",
      "1  <map object at 0x0000023F79F587B8>  \n",
      "2  <map object at 0x0000023F79F587B8>  \n",
      "3  <map object at 0x0000023F79F587B8>  \n",
      "4  <map object at 0x0000023F79F587B8>  \n",
      "0  <map object at 0x0000023F79F587B8>  \n",
      "1  <map object at 0x0000023F79F587B8>  \n",
      "2  <map object at 0x0000023F79F587B8>  \n",
      "3  <map object at 0x0000023F79F587B8>  \n",
      "4  <map object at 0x0000023F79F587B8>  \n",
      "0  <map object at 0x0000023F79F587B8>  \n",
      "1  <map object at 0x0000023F79F587B8>  \n",
      "2  <map object at 0x0000023F79F587B8>  \n",
      "3  <map object at 0x0000023F79F587B8>  \n",
      "4  <map object at 0x0000023F79F587B8>  \n",
      "0  <map object at 0x0000023F79F587B8>  \n",
      "1  <map object at 0x0000023F79F587B8>  \n",
      "2  <map object at 0x0000023F79F587B8>  \n",
      "3  <map object at 0x0000023F79F587B8>  \n",
      "4  <map object at 0x0000023F79F587B8>  \n",
      "0  <map object at 0x0000023F79F587B8>  \n",
      "1  <map object at 0x0000023F79F587B8>  \n",
      "2  <map object at 0x0000023F79F587B8>  \n",
      "3  <map object at 0x0000023F79F587B8>  \n",
      "4  <map object at 0x0000023F79F587B8>  \n",
      "0  <map object at 0x0000023F79F587B8>  \n",
      "1  <map object at 0x0000023F79F587B8>  \n",
      "2  <map object at 0x0000023F79F587B8>  \n",
      "3  <map object at 0x0000023F79F587B8>  \n",
      "4  <map object at 0x0000023F79F587B8>  \n"
     ]
    }
   ],
   "source": [
    "user_features_df[\"key\"] = 0\n",
    "user_features_df[\"user_id\"] = range(0,user_features_df.shape[0])\n",
    "item_features_df[\"key\"] = 0\n",
    "item_features_df[\"item_id\"] = range(0,item_features_df.shape[0])\n",
    "\n",
    "merged_df = pd.merge(user_features_df, item_features_df,left_index=True,on=\"key\")\n",
    "merged_df[[\"item_id\", \"user_id\"]]\n",
    "\n",
    "\n",
    "\n",
    "\n",
    "merged_df[\"rating\"] = map(lambda ids: user_ratings_df.values[ids[1]][ids[2]], \n",
    "                          merged_df[[\"user_id\", \"item_id\"]].itertuples())\n",
    "\n",
    "print(merged_df)\n",
    "\n"
   ]
  },
  {
   "cell_type": "code",
   "execution_count": 28,
   "metadata": {},
   "outputs": [
    {
     "name": "stdout",
     "output_type": "stream",
     "text": [
      "The train head is:\n",
      "    Sex   Over60  key  user_id  Critic0   Critic1  item_id  \\\n",
      "0  1.0      0.0    0        0      0.3       0.9        0   \n",
      "1  1.0      0.0    0        0      0.9       0.3        1   \n",
      "2  1.0      0.0    0        0      0.6       0.4        2   \n",
      "3  1.0      0.0    0        0      0.2       0.1        3   \n",
      "4  1.0      0.0    0        0      0.7       0.8        4   \n",
      "\n",
      "                               rating  \n",
      "0  <map object at 0x0000023F79F587B8>  \n",
      "1  <map object at 0x0000023F79F587B8>  \n",
      "2  <map object at 0x0000023F79F587B8>  \n",
      "3  <map object at 0x0000023F79F587B8>  \n",
      "4  <map object at 0x0000023F79F587B8>  \n",
      "The test head is:\n",
      " Empty DataFrame\n",
      "Columns: [Sex,  Over60, key, user_id, Critic0,  Critic1, item_id, rating]\n",
      "Index: []\n"
     ]
    }
   ],
   "source": [
    "train = merged_df.dropna()\n",
    "test = merged_df[merged_df.isnull().any(axis=1)]\n",
    "#print (test.to_latex())\n",
    "\n",
    "print(\"The train head is:\\n\", train.head())\n",
    "print(\"The test head is:\\n\",test.head())"
   ]
  },
  {
   "cell_type": "code",
   "execution_count": 31,
   "metadata": {
    "slideshow": {
     "slide_type": "slide"
    }
   },
   "outputs": [
    {
     "name": "stdout",
     "output_type": "stream",
     "text": [
      "\\begin{tabular}{lrrrr}\n",
      "\\toprule\n",
      "{} &  Critic0 &   Critic1 &  key &  item\\_id \\\\\n",
      "\\midrule\n",
      "0 &      0.3 &       0.9 &    0 &        0 \\\\\n",
      "1 &      0.9 &       0.3 &    0 &        1 \\\\\n",
      "2 &      0.6 &       0.4 &    0 &        2 \\\\\n",
      "3 &      0.2 &       0.1 &    0 &        3 \\\\\n",
      "4 &      0.7 &       0.8 &    0 &        4 \\\\\n",
      "\\bottomrule\n",
      "\\end{tabular}\n",
      "\n",
      "The user_features data set is the following:\n",
      "    Sex   Over60  key  user_id\n",
      "0  1.0      0.0    0        0\n",
      "1  0.0      1.0    0        1\n",
      "2  0.0      0.0    0        2\n",
      "3  1.0      0.0    0        3\n",
      "4  0.0      1.0    0        4\n",
      "5  0.0      0.0    0        5\n",
      "6  0.0      0.0    0        6\n",
      "7  1.0      0.0    0        7\n",
      "8  0.0      1.0    0        8\n",
      "9  1.0      0.0    0        9\n"
     ]
    }
   ],
   "source": [
    "n_latent_features = 2\n",
    "\n",
    "user_ratings = user_ratings_df.values\n",
    "latent_user_preferences = np.random.random((user_ratings.shape[0], n_latent_features))\n",
    "latent_item_features = np.random.random((user_ratings.shape[1],n_latent_features))\n",
    "\n",
    "user_features = user_features_df.values\n",
    "item_features = item_features_df.values\n",
    "\n",
    "print (item_features_df.to_latex())\n",
    "\n",
    "\n",
    "user_features = np.concatenate([np.ones(shape = (user_features.shape[0],1)), user_features], axis = 1)\n",
    "item_features = np.concatenate([np.ones(shape = (item_features.shape[0],1)), item_features], axis = 1)\n",
    "\n",
    "\n",
    "\n",
    "user_features_weights = np.random.random((user_ratings.shape[0], user_features.shape[1] ))\n",
    "item_features_weights = np.random.random((user_ratings.shape[1],item_features.shape[1] ))\n",
    "\n",
    "\n",
    "# print user_features\n",
    "#Printing the second data set\n",
    "print(\"The user_features data set is the following:\\n\",user_features_df)"
   ]
  },
  {
   "cell_type": "code",
   "execution_count": 33,
   "metadata": {
    "slideshow": {
     "slide_type": "slide"
    }
   },
   "outputs": [],
   "source": [
    "def predict_rating(user_id,item_id):\n",
    "    \"\"\" Predict a rating given a user_id and an item_id.\n",
    "    \"\"\"\n",
    "    user_preference = latent_user_preferences[user_id]\n",
    "    item_preference = latent_item_features[item_id]\n",
    "    \n",
    "    user_score = user_features_weights[user_id].dot(user_features[user_id])\n",
    "    item_score = item_features_weights[item_id].dot(item_features[item_id])\n",
    "    #print user_preference.dot(item_preference), user_score, item_score\n",
    "    return user_preference.dot(item_preference) + user_score + item_score\n",
    "\n",
    "def train(user_id, item_id, rating,alpha = 0.001, \n",
    "                                   latent_feature_weight_decay = 0.1, \n",
    "                                   user_weight_decay = 0.01,\n",
    "                                   item_weight_decay = 0.0001):\n",
    "    \n",
    "    #print item_id\n",
    "    prediction_rating = predict_rating(user_id, item_id)\n",
    "    err =  ( prediction_rating - rating );\n",
    "    #print err\n",
    "    user_pref_values = latent_user_preferences[user_id][:]\n",
    "    latent_user_preferences[user_id] -= alpha * err *  ( latent_item_features[item_id] + latent_feature_weight_decay*latent_user_preferences[user_id])\n",
    "    latent_item_features[item_id] -= alpha * err * ( user_pref_values + latent_feature_weight_decay*latent_item_features[item_id])\n",
    "    \n",
    "    user_features_weights[user_id] -=alpha * err *(  user_features[user_id] + user_weight_decay* user_features_weights[user_id])\n",
    "    item_features_weights[item_id] -=alpha * err * ( item_features_weights[item_id] + item_weight_decay* item_features_weights[item_id])\n",
    "    \n",
    "    \n",
    "    return(err)\n",
    "    \n",
    "\n",
    "\n",
    "def sgd(iterations = 30000):\n",
    "    \"\"\" Iterate over all users and all items and train for \n",
    "        a certain number of iterations\n",
    "    \"\"\"\n",
    "    for iteration in range(0,iterations):\n",
    "        error = []\n",
    "        for user_id in range(0,latent_user_preferences.shape[0]):\n",
    "            for item_id in range(0,latent_item_features.shape[0]):\n",
    "                rating = user_ratings[user_id][item_id]\n",
    "                if(not np.isnan(rating)):\n",
    "                    err = train(user_id,item_id,rating)\n",
    "                    error.append(err)\n",
    "    mse = (np.array(error) ** 2).mean()          \n",
    "    print(mse)\n",
    "                    \n",
    "                    \n",
    "    \n",
    "                    \n",
    "                    \n",
    "    \n"
   ]
  },
  {
   "cell_type": "code",
   "execution_count": 34,
   "metadata": {
    "slideshow": {
     "slide_type": "fragment"
    }
   },
   "outputs": [
    {
     "name": "stdout",
     "output_type": "stream",
     "text": [
      "0.37085184087283307\n",
      "0.36629401137359413\n",
      "0.36435734143161\n",
      "0.3632596998242436\n",
      "0.36254562175103305\n",
      "0.36204425703610077\n",
      "0.3616761113334738\n",
      "0.3613988288550506\n",
      "0.36118766701835486\n",
      "0.3610272030551586\n"
     ]
    }
   ],
   "source": [
    "for _ in range(0,10): \n",
    "    sgd()"
   ]
  },
  {
   "cell_type": "code",
   "execution_count": 36,
   "metadata": {
    "slideshow": {
     "slide_type": "slide"
    }
   },
   "outputs": [
    {
     "name": "stdout",
     "output_type": "stream",
     "text": [
      "[[-0.019  0.771  0.417  0.449  0.809]\n",
      " [ 0.902  0.565  0.981  0.393  0.246]\n",
      " [ 0.44   0.816  0.065  0.67   0.885]\n",
      " [ 1.061  0.751  0.605  0.3    1.129]\n",
      " [ 1.291  0.42   0.811  1.001  2.109]\n",
      " [ 0.13   0.956  0.355  0.062  0.413]\n",
      " [ 0.6    0.855  0.442  0.459  0.105]\n",
      " [ 0.304  0.561  0.234  0.025  0.338]\n",
      " [ 0.33   0.624  0.049  0.744  0.008]\n",
      " [ 0.615  0.79   0.91   0.918 -0.263]]\n",
      "[[0.84  1.391 1.767 3.186 2.143]\n",
      " [0.036 0.009 0.005 0.036 0.029]\n",
      " [0.104 0.178 0.171 0.075 0.454]\n",
      " [1.873 0.924 1.052 0.92  0.452]\n",
      " [0.976 0.743 1.112 0.699 0.641]]\n"
     ]
    }
   ],
   "source": [
    "predictions = np.zeros(shape = (latent_user_preferences.shape[0], latent_item_features.shape[0]) )\n",
    "#print latent_user_preferences\n",
    "print( user_features_weights)\n",
    "print (item_features_weights)\n",
    "for user_id in range(0,latent_user_preferences.shape[0]):\n",
    "            for item_id in range(0,latent_item_features.shape[0]):\n",
    "                predictions[user_id,item_id] =  predict_rating(user_id,item_id)\n",
    "\n",
    "  "
   ]
  },
  {
   "cell_type": "code",
   "execution_count": 42,
   "metadata": {
    "slideshow": {
     "slide_type": "slide"
    }
   },
   "outputs": [],
   "source": [
    "values = [zip(user_ratings[i], predictions[i]) for i in range(0,predictions.shape[0])]\n",
    "comparison_data = pd.DataFrame(values)\n",
    "comparison_data.columns = user_ratings_df.columns\n",
    "#comparison_data.applymap(lambda (x,y): \"(%2.3f|%2.3f)\"%(x,y))"
   ]
  },
  {
   "cell_type": "code",
   "execution_count": 43,
   "metadata": {
    "slideshow": {
     "slide_type": "fragment"
    }
   },
   "outputs": [
    {
     "data": {
      "text/html": [
       "<div>\n",
       "<style scoped>\n",
       "    .dataframe tbody tr th:only-of-type {\n",
       "        vertical-align: middle;\n",
       "    }\n",
       "\n",
       "    .dataframe tbody tr th {\n",
       "        vertical-align: top;\n",
       "    }\n",
       "\n",
       "    .dataframe thead th {\n",
       "        text-align: right;\n",
       "    }\n",
       "</style>\n",
       "<table border=\"1\" class=\"dataframe\">\n",
       "  <thead>\n",
       "    <tr style=\"text-align: right;\">\n",
       "      <th></th>\n",
       "      <th>The Call of Cthulhu</th>\n",
       "      <th>Frankenstein</th>\n",
       "      <th>Dracula</th>\n",
       "      <th>Neuromancer</th>\n",
       "      <th>Space Odyssey</th>\n",
       "    </tr>\n",
       "  </thead>\n",
       "  <tbody>\n",
       "    <tr>\n",
       "      <th>0</th>\n",
       "      <td>(8.0, 8.00470812932014)</td>\n",
       "      <td>(2.0, 1.5444963841621342)</td>\n",
       "      <td>(nan, 5.91945815922451)</td>\n",
       "      <td>(5.0, 5.378557699633641)</td>\n",
       "      <td>(4.0, 4.070081014112371)</td>\n",
       "    </tr>\n",
       "    <tr>\n",
       "      <th>1</th>\n",
       "      <td>(3.0, 2.992303132283301)</td>\n",
       "      <td>(2.0, 2.7581171923169086)</td>\n",
       "      <td>(nan, 4.648677110285858)</td>\n",
       "      <td>(7.0, 6.372235547412158)</td>\n",
       "      <td>(7.0, 6.884324310569557)</td>\n",
       "    </tr>\n",
       "    <tr>\n",
       "      <th>2</th>\n",
       "      <td>(9.0, 8.947704145260381)</td>\n",
       "      <td>(nan, 3.102847725364155)</td>\n",
       "      <td>(7.0, 7.5650239399093735)</td>\n",
       "      <td>(8.0, 6.963205776388715)</td>\n",
       "      <td>(5.0, 5.5265170779479265)</td>\n",
       "    </tr>\n",
       "    <tr>\n",
       "      <th>3</th>\n",
       "      <td>(nan, 17.48938656595775)</td>\n",
       "      <td>(nan, 4.588868189508462)</td>\n",
       "      <td>(7.0, 7.000563793515084)</td>\n",
       "      <td>(8.0, 7.996068899547945)</td>\n",
       "      <td>(9.0, 9.002238339793468)</td>\n",
       "    </tr>\n",
       "    <tr>\n",
       "      <th>4</th>\n",
       "      <td>(nan, 107.4778819008189)</td>\n",
       "      <td>(1.0, 1.0163020519409165)</td>\n",
       "      <td>(8.0, 7.992586084866161)</td>\n",
       "      <td>(3.0, 2.998322411127182)</td>\n",
       "      <td>(7.0, 6.991793787668115)</td>\n",
       "    </tr>\n",
       "    <tr>\n",
       "      <th>5</th>\n",
       "      <td>(2.0, 1.9998302208164622)</td>\n",
       "      <td>(3.0, 2.9999518648017873)</td>\n",
       "      <td>(5.0, 5.0010180808196685)</td>\n",
       "      <td>(nan, 6.6575164515773135)</td>\n",
       "      <td>(nan, 6.972098279732448)</td>\n",
       "    </tr>\n",
       "    <tr>\n",
       "      <th>6</th>\n",
       "      <td>(4.0, 4.017227619765737)</td>\n",
       "      <td>(2.0, 0.3000531812949788)</td>\n",
       "      <td>(nan, -1.1832642864263767)</td>\n",
       "      <td>(2.0, 3.3495609372220434)</td>\n",
       "      <td>(7.0, 7.254537331539927)</td>\n",
       "    </tr>\n",
       "    <tr>\n",
       "      <th>7</th>\n",
       "      <td>(7.0, 6.983126481264769)</td>\n",
       "      <td>(1.0, 2.57416469177384)</td>\n",
       "      <td>(2.0, 2.0965615558509403)</td>\n",
       "      <td>(7.0, 5.753439789286005)</td>\n",
       "      <td>(9.0, 8.780433194381066)</td>\n",
       "    </tr>\n",
       "    <tr>\n",
       "      <th>8</th>\n",
       "      <td>(3.0, 3.0016949655314327)</td>\n",
       "      <td>(3.0, 2.806629003710535)</td>\n",
       "      <td>(nan, 9.685859703938819)</td>\n",
       "      <td>(7.0, 7.14174409556327)</td>\n",
       "      <td>(3.0, 3.031140915100524)</td>\n",
       "    </tr>\n",
       "    <tr>\n",
       "      <th>9</th>\n",
       "      <td>(4.0, 4.0519631458894425)</td>\n",
       "      <td>(nan, 0.10340629990493463)</td>\n",
       "      <td>(5.0, 4.44198193073372)</td>\n",
       "      <td>(3.0, 3.9881627355189044)</td>\n",
       "      <td>(3.0, 2.519713309171633)</td>\n",
       "    </tr>\n",
       "  </tbody>\n",
       "</table>\n",
       "</div>"
      ],
      "text/plain": [
       "         The Call of Cthulhu                Frankenstein  \\\n",
       "0    (8.0, 8.00470812932014)   (2.0, 1.5444963841621342)   \n",
       "1   (3.0, 2.992303132283301)   (2.0, 2.7581171923169086)   \n",
       "2   (9.0, 8.947704145260381)    (nan, 3.102847725364155)   \n",
       "3   (nan, 17.48938656595775)    (nan, 4.588868189508462)   \n",
       "4   (nan, 107.4778819008189)   (1.0, 1.0163020519409165)   \n",
       "5  (2.0, 1.9998302208164622)   (3.0, 2.9999518648017873)   \n",
       "6   (4.0, 4.017227619765737)   (2.0, 0.3000531812949788)   \n",
       "7   (7.0, 6.983126481264769)     (1.0, 2.57416469177384)   \n",
       "8  (3.0, 3.0016949655314327)    (3.0, 2.806629003710535)   \n",
       "9  (4.0, 4.0519631458894425)  (nan, 0.10340629990493463)   \n",
       "\n",
       "                      Dracula                Neuromancer  \\\n",
       "0     (nan, 5.91945815922451)   (5.0, 5.378557699633641)   \n",
       "1    (nan, 4.648677110285858)   (7.0, 6.372235547412158)   \n",
       "2   (7.0, 7.5650239399093735)   (8.0, 6.963205776388715)   \n",
       "3    (7.0, 7.000563793515084)   (8.0, 7.996068899547945)   \n",
       "4    (8.0, 7.992586084866161)   (3.0, 2.998322411127182)   \n",
       "5   (5.0, 5.0010180808196685)  (nan, 6.6575164515773135)   \n",
       "6  (nan, -1.1832642864263767)  (2.0, 3.3495609372220434)   \n",
       "7   (2.0, 2.0965615558509403)   (7.0, 5.753439789286005)   \n",
       "8    (nan, 9.685859703938819)    (7.0, 7.14174409556327)   \n",
       "9     (5.0, 4.44198193073372)  (3.0, 3.9881627355189044)   \n",
       "\n",
       "               Space Odyssey  \n",
       "0   (4.0, 4.070081014112371)  \n",
       "1   (7.0, 6.884324310569557)  \n",
       "2  (5.0, 5.5265170779479265)  \n",
       "3   (9.0, 9.002238339793468)  \n",
       "4   (7.0, 6.991793787668115)  \n",
       "5   (nan, 6.972098279732448)  \n",
       "6   (7.0, 7.254537331539927)  \n",
       "7   (9.0, 8.780433194381066)  \n",
       "8   (3.0, 3.031140915100524)  \n",
       "9   (3.0, 2.519713309171633)  "
      ]
     },
     "execution_count": 43,
     "metadata": {},
     "output_type": "execute_result"
    }
   ],
   "source": [
    "comparison_data"
   ]
  },
  {
   "cell_type": "code",
   "execution_count": 41,
   "metadata": {},
   "outputs": [],
   "source": [
    "d = comparison_data.to_latex()\n",
    "text_file = open(\"comparison.txt\", \"w\")\n",
    "text_file.write(d)\n",
    "text_file.close()"
   ]
  },
  {
   "cell_type": "code",
   "execution_count": null,
   "metadata": {},
   "outputs": [],
   "source": []
  }
 ],
 "metadata": {
  "kernelspec": {
   "display_name": "Python 3",
   "language": "python",
   "name": "python3"
  },
  "language_info": {
   "codemirror_mode": {
    "name": "ipython",
    "version": 3
   },
   "file_extension": ".py",
   "mimetype": "text/x-python",
   "name": "python",
   "nbconvert_exporter": "python",
   "pygments_lexer": "ipython3",
   "version": "3.7.1"
  }
 },
 "nbformat": 4,
 "nbformat_minor": 1
}
